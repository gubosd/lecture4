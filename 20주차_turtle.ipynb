{
 "cells": [
  {
   "cell_type": "markdown",
   "metadata": {},
   "source": [
    "## 인공지능 프로그래밍\n",
    "# 파이썬 거북이(turtle)\n",
    "- 20주차 (2019.6.14)"
   ]
  },
  {
   "cell_type": "code",
   "execution_count": 2,
   "metadata": {},
   "outputs": [],
   "source": [
    "import turtle as t"
   ]
  },
  {
   "cell_type": "markdown",
   "metadata": {},
   "source": [
    "### 위치 지정 (좌표)\n",
    "- t.setheading(각도) : 방향 설정\n",
    "- t.heading() : 현재 거북이의 각도를 알려줌\n",
    "- t.goto(x, y) : (x,y) 좌표로 이동\n",
    "- t.pos() : 거북이의 현재 (x,y) 좌표 알려줌\n",
    "- t.xcor(), t.ycor() : 거북이의 현재 x 와 y 좌표 알려줌\n",
    "- t.towards(x, y) : 현재 위치에서 (x,y) 좌표 까지의 각도를 알려줌\n",
    "- t.distance(x, y) : 현재 위치에서 (x,y) 좌표 까지의 거리를 알려줌"
   ]
  },
  {
   "cell_type": "code",
   "execution_count": 3,
   "metadata": {},
   "outputs": [],
   "source": [
    "t.reset()\n",
    "\n",
    "t.forward(100)\n",
    "t.setheading(90)\n",
    "t.forward(100)"
   ]
  },
  {
   "cell_type": "code",
   "execution_count": 5,
   "metadata": {},
   "outputs": [
    {
     "name": "stdout",
     "output_type": "stream",
     "text": [
      "90.0\n"
     ]
    }
   ],
   "source": [
    "print(t.heading())\n",
    "t.write(str(t.heading())+'도')"
   ]
  },
  {
   "cell_type": "code",
   "execution_count": 7,
   "metadata": {},
   "outputs": [
    {
     "name": "stdout",
     "output_type": "stream",
     "text": [
      "(0.00,0.00)\n"
     ]
    }
   ],
   "source": [
    "t.reset()\n",
    "\n",
    "print(t.pos())\n",
    "t.goto(200,100)\n",
    "t.goto(-100,-100)"
   ]
  },
  {
   "cell_type": "code",
   "execution_count": 9,
   "metadata": {},
   "outputs": [],
   "source": [
    "t.reset()\n",
    "\n",
    "t.goto(100,0)\n",
    "t.goto(100,100)\n",
    "t.goto(0,100)\n",
    "t.goto(0,0)"
   ]
  },
  {
   "cell_type": "code",
   "execution_count": 7,
   "metadata": {},
   "outputs": [
    {
     "name": "stdout",
     "output_type": "stream",
     "text": [
      "(0.00,0.00)\n",
      "(200.00,100.00)\n",
      "200 100\n"
     ]
    }
   ],
   "source": [
    "print(t.pos())\n",
    "print(t.xcor(), t.ycor())"
   ]
  },
  {
   "cell_type": "code",
   "execution_count": 8,
   "metadata": {},
   "outputs": [
    {
     "name": "stdout",
     "output_type": "stream",
     "text": [
      "45.0 141.4213562373095\n"
     ]
    }
   ],
   "source": [
    "t.reset()\n",
    "\n",
    "각도 = t.towards(100, 100)\n",
    "거리 = t.distance(100, 100)\n",
    "print(각도, 거리)"
   ]
  },
  {
   "cell_type": "code",
   "execution_count": 9,
   "metadata": {},
   "outputs": [
    {
     "name": "stdout",
     "output_type": "stream",
     "text": [
      "(100.00,100.00)\n"
     ]
    }
   ],
   "source": [
    "t.setheading(각도)\n",
    "t.forward(거리)\n",
    "print(t.pos())\n",
    "t.write('%.2f, %.2f' % (각도, 거리))"
   ]
  },
  {
   "cell_type": "markdown",
   "metadata": {},
   "source": [
    "### 기본문제 20-1\n",
    "- t.goto() 함수를 이용하여 이등변 정삼각형을 그리시오"
   ]
  },
  {
   "cell_type": "code",
   "execution_count": 14,
   "metadata": {},
   "outputs": [],
   "source": [
    "t.reset()\n",
    "\n",
    "t.goto(200,0)\n",
    "t.goto(100,100)\n",
    "t.goto(0,0)"
   ]
  },
  {
   "cell_type": "markdown",
   "metadata": {},
   "source": [
    "- t.goto() 로 오각형을 그려보자."
   ]
  },
  {
   "cell_type": "code",
   "execution_count": 17,
   "metadata": {},
   "outputs": [],
   "source": [
    "t.reset()\n",
    "\n",
    "t.goto(100,0)\n",
    "t.goto(150,100)\n",
    "t.goto(50,150)\n",
    "t.goto(-50,100)\n",
    "t.goto(0,0)"
   ]
  },
  {
   "cell_type": "code",
   "execution_count": 10,
   "metadata": {},
   "outputs": [],
   "source": [
    "import math\n",
    "\n",
    "t.reset()\n",
    "\n",
    "t.goto(-100/2, -100*math.sqrt(3)/2)"
   ]
  },
  {
   "cell_type": "code",
   "execution_count": 11,
   "metadata": {},
   "outputs": [],
   "source": [
    "t.goto(100/2, -100*math.sqrt(3)/2)"
   ]
  },
  {
   "cell_type": "code",
   "execution_count": 13,
   "metadata": {},
   "outputs": [],
   "source": [
    "t.goto(0,0)"
   ]
  },
  {
   "cell_type": "markdown",
   "metadata": {},
   "source": [
    "### 기본문제 20-2\n",
    "- 길이가 200인 평행한 직선 5개를 그리시오. (직선간 간격은 50)"
   ]
  },
  {
   "cell_type": "code",
   "execution_count": 18,
   "metadata": {},
   "outputs": [],
   "source": [
    "t.reset()\n",
    "\n",
    "t.goto(200,0)\n",
    "\n",
    "t.up()\n",
    "t.goto(0,50)\n",
    "t.down()\n",
    "\n",
    "t.goto(200,50)\n",
    "\n",
    "t.up()\n",
    "t.goto(0,100)\n",
    "t.down()\n",
    "\n",
    "t.goto(200,100)\n",
    "\n",
    "t.up()\n",
    "t.goto(0,150)\n",
    "t.down()\n",
    "\n",
    "t.goto(200,150)\n",
    "\n",
    "t.up()\n",
    "t.goto(0,200)\n",
    "t.down()\n",
    "\n",
    "t.goto(200,200)"
   ]
  },
  {
   "cell_type": "markdown",
   "metadata": {},
   "source": [
    "- 반복문을 사용하여 그려보자."
   ]
  },
  {
   "cell_type": "code",
   "execution_count": 15,
   "metadata": {},
   "outputs": [],
   "source": [
    "t.reset()\n",
    "\n",
    "for 횟수 in range(5): # 0, 1, 2, 3, 4\n",
    "    t.up()\n",
    "    t.goto(0, 횟수*50)\n",
    "    t.down()\n",
    "    \n",
    "    t.goto(200, 횟수*50)"
   ]
  },
  {
   "cell_type": "markdown",
   "metadata": {},
   "source": [
    "- 직선을 촘촘하게 많이 그려보자."
   ]
  },
  {
   "cell_type": "code",
   "execution_count": 22,
   "metadata": {},
   "outputs": [],
   "source": [
    "t.reset()\n",
    "t.speed(0)\n",
    "\n",
    "for 횟수 in range(20):\n",
    "    t.up()\n",
    "    t.goto(0, 횟수*3)\n",
    "    t.down()\n",
    "    \n",
    "    t.goto(200, 횟수*3)"
   ]
  },
  {
   "cell_type": "markdown",
   "metadata": {},
   "source": [
    "- 왼쪽 오른쪽을 번갈아 가며 그려보자."
   ]
  },
  {
   "cell_type": "code",
   "execution_count": 23,
   "metadata": {},
   "outputs": [],
   "source": [
    "t.reset()\n",
    "t.speed(0)\n",
    "\n",
    "for 횟수 in range(40):\n",
    "    t.up()\n",
    "    t.goto(0, 횟수*5)\n",
    "    t.down()\n",
    "    \n",
    "    if 횟수%2==0:\n",
    "        t.goto(200, 횟수*5)\n",
    "    else:\n",
    "        t.goto(-200, 횟수*5)"
   ]
  },
  {
   "cell_type": "markdown",
   "metadata": {},
   "source": [
    "- 직선의 길이를 점점 늘려가 보자."
   ]
  },
  {
   "cell_type": "code",
   "execution_count": 18,
   "metadata": {},
   "outputs": [],
   "source": [
    "t.reset()\n",
    "t.speed(0)\n",
    "\n",
    "for 횟수 in range(40):\n",
    "    t.up()\n",
    "    t.goto(0, 횟수*5)\n",
    "    t.down()\n",
    "    \n",
    "    if 횟수%2==0:\n",
    "        t.goto(횟수*5, 횟수*5)\n",
    "    else:\n",
    "        t.goto(-횟수*5, 횟수*5)"
   ]
  },
  {
   "cell_type": "markdown",
   "metadata": {},
   "source": [
    "### 기본문제 20-3\n",
    "- 아래와 같은 사각형을 그리는 함수가 있다.\n",
    "- 이를 이용하여 중심이 같으면서 점점 커지는 사각형 10개를 그려라"
   ]
  },
  {
   "cell_type": "code",
   "execution_count": 25,
   "metadata": {},
   "outputs": [],
   "source": [
    "def 사각형(길이):\n",
    "    for 횟수 in range(4):\n",
    "        t.forward(길이)\n",
    "        t.right(90)     "
   ]
  },
  {
   "cell_type": "code",
   "execution_count": 20,
   "metadata": {},
   "outputs": [],
   "source": [
    "t.reset()\n",
    "\n",
    "for 횟수 in range(1,11):\n",
    "    t.up()\n",
    "    t.goto(-10*횟수, 10*횟수)\n",
    "    t.down()\n",
    "    \n",
    "    사각형(10*횟수*2)"
   ]
  },
  {
   "cell_type": "markdown",
   "metadata": {},
   "source": [
    "- 위의 코드를 수정하여 정오각형을 그려보시오.\n",
    "- 중심이 일치하지 않는 이유를 생각해 보세요."
   ]
  },
  {
   "cell_type": "code",
   "execution_count": 21,
   "metadata": {},
   "outputs": [],
   "source": [
    "t.reset()\n",
    "\n",
    "def 오각형(길이):\n",
    "    for 횟수 in range(5):\n",
    "        t.forward(길이)\n",
    "        t.right(360/5)\n",
    "        \n",
    "for 횟수 in range(1,11):\n",
    "    t.up()\n",
    "    t.goto(-10*횟수, 10*횟수)\n",
    "    t.down()\n",
    "    \n",
    "    오각형(10*횟수*2)"
   ]
  },
  {
   "cell_type": "markdown",
   "metadata": {},
   "source": [
    "### 공놀이"
   ]
  },
  {
   "cell_type": "code",
   "execution_count": 28,
   "metadata": {},
   "outputs": [],
   "source": [
    "t.reset()\n",
    "t.shape('circle')\n",
    "t.color('skyblue')\n",
    "\n",
    "t.up()\n",
    "t.forward(100)"
   ]
  },
  {
   "cell_type": "code",
   "execution_count": 35,
   "metadata": {},
   "outputs": [],
   "source": [
    "t.reset()\n",
    "t.shape('circle')\n",
    "t.color('red')\n",
    "t.up()\n",
    "t.speed(1)\n",
    "\n",
    "for i in range(20):\n",
    "    이동거리=10\n",
    "    t.forward(이동거리)"
   ]
  },
  {
   "cell_type": "code",
   "execution_count": 41,
   "metadata": {},
   "outputs": [],
   "source": [
    "t.reset()\n",
    "t.shape('circle')\n",
    "t.color('red')\n",
    "t.up()\n",
    "t.speed(1)\n",
    "\n",
    "이동거리 = 10\n",
    "\n",
    "for i in range(40):\n",
    "    if i==10:\n",
    "        이동거리 = -10\n",
    "    elif i==20:\n",
    "        이동거리 = 10\n",
    "    t.forward(이동거리)"
   ]
  },
  {
   "cell_type": "code",
   "execution_count": 53,
   "metadata": {},
   "outputs": [],
   "source": [
    "t.reset()\n",
    "t.shape('circle')\n",
    "t.color('red')\n",
    "t.up()\n",
    "t.speed(1)\n",
    "\n",
    "이동거리 = 1\n",
    "\n",
    "for 횟수 in range(100):\n",
    "    if 횟수%10 == 0:\n",
    "        # 10 -> -10, -10 -> 10\n",
    "        이동거리 = -이동거리*2\n",
    "    t.forward(이동거리)"
   ]
  },
  {
   "cell_type": "markdown",
   "metadata": {},
   "source": [
    "- 바운스"
   ]
  },
  {
   "cell_type": "code",
   "execution_count": 56,
   "metadata": {},
   "outputs": [],
   "source": [
    "t.reset()\n",
    "t.shape('circle')\n",
    "t.color('red')\n",
    "t.up()\n",
    "t.speed(1)\n",
    "\n",
    "이동거리=20\n",
    "\n",
    "for 횟수 in range(100):\n",
    "    if t.xcor()>=200 or t.xcor()<=-200:\n",
    "        이동거리 = -이동거리\n",
    "    t.forward(이동거리)"
   ]
  },
  {
   "cell_type": "code",
   "execution_count": 57,
   "metadata": {},
   "outputs": [],
   "source": [
    "t.reset()\n",
    "t.shape('circle')\n",
    "t.color('red')\n",
    "t.up()\n",
    "t.speed(1)\n",
    "\n",
    "이동거리=20\n",
    "\n",
    "for 횟수 in range(100):\n",
    "    if t.xcor()>=200 or t.xcor()<=-200:\n",
    "        이동거리 = -이동거리\n",
    "    t.goto(t.xcor()+이동거리 , 0)"
   ]
  },
  {
   "cell_type": "markdown",
   "metadata": {},
   "source": [
    "- 벽을 그리자"
   ]
  },
  {
   "cell_type": "code",
   "execution_count": 39,
   "metadata": {},
   "outputs": [],
   "source": [
    "t.reset()\n",
    "t.shape('circle')\n",
    "t.color('red')\n",
    "t.speed(1)\n",
    "\n",
    "t.up()\n",
    "t.goto(-210,100)\n",
    "t.down()\n",
    "t.goto(-210, -100)\n",
    "\n",
    "t.up()\n",
    "t.goto(210,100)\n",
    "t.down()\n",
    "t.goto(210, -100)\n",
    "\n",
    "t.up()\n",
    "t.goto(0,0)\n",
    "t.speed(1)\n",
    "이동거리=20\n",
    "\n",
    "for i in range(100):\n",
    "    if t.xcor()>=200 or t.xcor()<=-200:\n",
    "        이동거리 = -이동거리\n",
    "    t.forward(이동거리)"
   ]
  },
  {
   "cell_type": "code",
   "execution_count": 42,
   "metadata": {},
   "outputs": [],
   "source": [
    "t.reset()\n",
    "t.shape('circle')\n",
    "t.speed(1)\n",
    "\n",
    "t.up()\n",
    "t.goto(-210,210)\n",
    "t.down()\n",
    "사각형(420)\n",
    "\n",
    "t.up()\n",
    "t.goto(0,0)\n",
    "t.color('blue')\n",
    "이동거리=20\n",
    "\n",
    "for i in range(100):\n",
    "    if t.xcor()>=200 or t.xcor()<=-200:\n",
    "        이동거리 = -이동거리\n",
    "    t.forward(이동거리)"
   ]
  },
  {
   "cell_type": "markdown",
   "metadata": {},
   "source": [
    "- t.goto() 함수로 바꿔보자."
   ]
  },
  {
   "cell_type": "code",
   "execution_count": 47,
   "metadata": {},
   "outputs": [],
   "source": [
    "t.reset()\n",
    "t.shape('circle')\n",
    "t.speed(1)\n",
    "\n",
    "t.up()\n",
    "t.goto(-200,200)\n",
    "t.down()\n",
    "사각형(400)\n",
    "\n",
    "t.up()\n",
    "t.goto(0,0)\n",
    "t.color('blue')\n",
    "이동거리=20\n",
    "\n",
    "for i in range(100):\n",
    "    if t.xcor()>=200 or t.xcor()<=-200:\n",
    "        이동거리 = -이동거리\n",
    "    t.goto(t.xcor()+이동거리, t.ycor())"
   ]
  },
  {
   "cell_type": "code",
   "execution_count": 58,
   "metadata": {},
   "outputs": [],
   "source": [
    "t.reset()\n",
    "t.shape('circle')\n",
    "\n",
    "t.up()\n",
    "t.speed(0)\n",
    "t.goto(-200,200)\n",
    "t.down()\n",
    "사각형(400)\n",
    "\n",
    "t.up()\n",
    "t.color('blue')\n",
    "\n",
    "수평이동거리=20\n",
    "수직이동거리=20\n",
    "t.speed(1)\n",
    "t.goto(32,-15)\n",
    "\n",
    "for i in range(100):\n",
    "    if t.xcor()>=200 or t.xcor()<=-200:\n",
    "        수평이동거리 = -수평이동거리\n",
    "    if t.ycor()>=200 or t.ycor()<=-200:\n",
    "        수직이동거리 = -수직이동거리\n",
    "        \n",
    "    t.goto(t.xcor()+수평이동거리, t.ycor()+수직이동거리)"
   ]
  },
  {
   "cell_type": "code",
   "execution_count": null,
   "metadata": {},
   "outputs": [],
   "source": []
  }
 ],
 "metadata": {
  "kernelspec": {
   "display_name": "Python 3",
   "language": "python",
   "name": "python3"
  },
  "language_info": {
   "codemirror_mode": {
    "name": "ipython",
    "version": 3
   },
   "file_extension": ".py",
   "mimetype": "text/x-python",
   "name": "python",
   "nbconvert_exporter": "python",
   "pygments_lexer": "ipython3",
   "version": "3.7.0"
  }
 },
 "nbformat": 4,
 "nbformat_minor": 2
}
