{
 "cells": [
  {
   "cell_type": "markdown",
   "metadata": {},
   "source": [
    "## 인공지능 프로그래밍\n",
    "# 파이썬 거북이 (turtle)\n",
    "- 19주차 (2019.6.7)"
   ]
  },
  {
   "cell_type": "markdown",
   "metadata": {},
   "source": [
    "### 거북이 불러오기\n",
    "- turtle 은 영어로 거북이를 의미한다\n",
    "- 거북이를 사용하기 위해서는 먼저 아래의 문장을 실행하여 거북이를 불러와야 한다."
   ]
  },
  {
   "cell_type": "code",
   "execution_count": 27,
   "metadata": {},
   "outputs": [],
   "source": [
    "import turtle as t"
   ]
  },
  {
   "cell_type": "code",
   "execution_count": 28,
   "metadata": {},
   "outputs": [],
   "source": [
    "t.forward(100)"
   ]
  },
  {
   "cell_type": "code",
   "execution_count": 31,
   "metadata": {},
   "outputs": [],
   "source": [
    "t.forward(50)"
   ]
  },
  {
   "cell_type": "markdown",
   "metadata": {},
   "source": [
    "- 위와 같이 forward() 명령을 사용하여 원하는 만큼 거리를 이동할 수 있다.\n",
    "- 명령어를 실행할 때 마다 화면에 바로 적용된다."
   ]
  },
  {
   "cell_type": "code",
   "execution_count": 34,
   "metadata": {},
   "outputs": [],
   "source": [
    "t.left(90)\n",
    "t.forward(100)"
   ]
  },
  {
   "cell_type": "code",
   "execution_count": 41,
   "metadata": {},
   "outputs": [],
   "source": [
    "t.right(90)\n",
    "t.forward(100)"
   ]
  },
  {
   "cell_type": "markdown",
   "metadata": {},
   "source": [
    "- left(각도), right(각도) 명령을 이용하여 왼쪽, 오른쪽으로 회전할 수 있다.\n",
    "- 각도는 0 ~ 360 도를 지정할 수 있다."
   ]
  },
  {
   "cell_type": "code",
   "execution_count": 42,
   "metadata": {},
   "outputs": [],
   "source": [
    "t.reset()"
   ]
  },
  {
   "cell_type": "markdown",
   "metadata": {},
   "source": [
    "- 화면을 모두 지우고 원래 위치로 돌아가기 위해서는 reset() 명령을 사용하면 된다."
   ]
  },
  {
   "cell_type": "markdown",
   "metadata": {},
   "source": [
    "### 기본문제 19-1\n",
    "- 위에서 배운 forward, left, right 명령을 이용하여 사각형을 그려라.\n",
    "- 반복문 for 를 사용하여 사각형을 다시 그려라."
   ]
  },
  {
   "cell_type": "code",
   "execution_count": 43,
   "metadata": {},
   "outputs": [],
   "source": [
    "t.forward(100)\n",
    "t.left(90)\n",
    "t.forward(100)\n",
    "t.left(90)\n",
    "t.forward(100)\n",
    "t.left(90)\n",
    "t.forward(100)"
   ]
  },
  {
   "cell_type": "code",
   "execution_count": 11,
   "metadata": {},
   "outputs": [],
   "source": [
    "t.reset()\n",
    "\n",
    "for 횟수 in range(4): # 4번 반복한다\n",
    "    t.forward(100)\n",
    "    t.left(90)"
   ]
  },
  {
   "cell_type": "code",
   "execution_count": 44,
   "metadata": {},
   "outputs": [],
   "source": [
    "t.reset()\n",
    "\n",
    "for 횟수 in [0,1,2,3]:\n",
    "    t.forward(100)\n",
    "    t.left(90)"
   ]
  },
  {
   "cell_type": "markdown",
   "metadata": {},
   "source": [
    "### 응용문제 19-1\n",
    "1. 정삼각형을 그려라\n",
    "2. 정오각형과 정육각형을 그려라\n",
    "> **힌트**:반복횟수와 각도를 잘 지정하면 된다.\n",
    "3. 별 모양을 그려보자. (정오각형 각도의 두배를 적용한다.)"
   ]
  },
  {
   "cell_type": "code",
   "execution_count": 48,
   "metadata": {},
   "outputs": [],
   "source": [
    "t.reset()\n",
    "\n",
    "for 횟수 in range(11):\n",
    "    t.forward(100)\n",
    "    t.left(720/5)"
   ]
  },
  {
   "cell_type": "markdown",
   "metadata": {},
   "source": [
    "### 기본문제 19-2\n",
    "- 사각형을 그리는 문제를 변형하여, 한번 전진할 때 마다 이동거리가 늘어나도록 만들어라."
   ]
  },
  {
   "cell_type": "code",
   "execution_count": 50,
   "metadata": {},
   "outputs": [],
   "source": [
    "t.reset()\n",
    "\n",
    "for 횟수 in range(100):\n",
    "    t.forward(횟수*2)\n",
    "    t.left(90)"
   ]
  },
  {
   "cell_type": "code",
   "execution_count": 54,
   "metadata": {},
   "outputs": [],
   "source": [
    "t.reset()\n",
    "t.speed(0)\n",
    "\n",
    "for 횟수 in range(100):\n",
    "    t.forward(횟수*3)\n",
    "    t.left(360/5)"
   ]
  },
  {
   "cell_type": "markdown",
   "metadata": {},
   "source": [
    "#### 응용문제 19-2\n",
    "1. 삼각형 형태로 이동거리가 늘어나도록 만들어라.\n",
    "2. 다른 정다각형 형태에도 적용해 보라."
   ]
  },
  {
   "cell_type": "markdown",
   "metadata": {},
   "source": [
    "### 거북이 설정하기\n",
    "- bgcolor(색) : 배경색 바꾸기\n",
    "- color(색) : 거북이 색상 바꾸기\n",
    "- width(굵기) : 선의 굵기 바꾸기\n",
    "- speed(속도) : 그리기 속도 바꾸기 (1~10. 10이 가장 빠르다. 단 0은 무한대 속도. 3이 기본값)\n",
    "- shape(모양) : 거북이의 모양을 바꾼다. ('arrow', 'turtle', 'circle', 'square', 'triangle', 'classic')"
   ]
  },
  {
   "cell_type": "code",
   "execution_count": 23,
   "metadata": {},
   "outputs": [],
   "source": [
    "t.reset()\n",
    "t.bgcolor('pink')"
   ]
  },
  {
   "cell_type": "code",
   "execution_count": 24,
   "metadata": {},
   "outputs": [],
   "source": [
    "t.color('green')\n",
    "t.forward(100)"
   ]
  },
  {
   "cell_type": "code",
   "execution_count": 25,
   "metadata": {},
   "outputs": [],
   "source": [
    "t.width(5)\n",
    "t.forward(100)"
   ]
  },
  {
   "cell_type": "code",
   "execution_count": 31,
   "metadata": {},
   "outputs": [],
   "source": [
    "t.reset()\n",
    "t.speed(3)\n",
    "\n",
    "for 횟수 in range(10):\n",
    "    t.left(90)\n",
    "    t.forward(횟수*10)"
   ]
  },
  {
   "cell_type": "code",
   "execution_count": 55,
   "metadata": {},
   "outputs": [],
   "source": [
    "t.reset()\n",
    "t.shape('turtle') # 거북이 모양\n",
    "t.forward(100)"
   ]
  },
  {
   "cell_type": "markdown",
   "metadata": {},
   "source": [
    "#### 보기\n",
    "- 선이 점점 굵어지는 사각형을 그려라\n",
    "- 네 변이 모두 색상이 다른 사각형을 그려라. (다음의 리스트를 사용하라)\n",
    "> 색상표 = ['red', 'lime', 'skyblue', 'yellow']\n",
    "- **참고** : random 모듈을 이용한 색상 지정"
   ]
  },
  {
   "cell_type": "code",
   "execution_count": 58,
   "metadata": {},
   "outputs": [],
   "source": [
    "t.reset()\n",
    "\n",
    "for 횟수 in range(4):\n",
    "    t.width(횟수*10 + 1)\n",
    "    t.forward(100)\n",
    "    t.left(90)"
   ]
  },
  {
   "cell_type": "code",
   "execution_count": 60,
   "metadata": {},
   "outputs": [],
   "source": [
    "t.reset()\n",
    "색상표 = ['red', 'blue', 'green', 'yellow', 'brown']\n",
    "\n",
    "for 횟수 in range(5):\n",
    "    t.color(색상표[횟수])\n",
    "    t.forward(100)\n",
    "    t.left(360/5)"
   ]
  },
  {
   "cell_type": "markdown",
   "metadata": {},
   "source": [
    "### 계단 그리기"
   ]
  },
  {
   "cell_type": "code",
   "execution_count": 73,
   "metadata": {},
   "outputs": [],
   "source": [
    "t.reset()\n",
    "\n",
    "for 횟수 in range(5):\n",
    "    t.forward(50)\n",
    "    t.left(90)\n",
    "    t.forward(50)\n",
    "    t.right(90)"
   ]
  },
  {
   "cell_type": "code",
   "execution_count": 83,
   "metadata": {},
   "outputs": [],
   "source": [
    "t.reset()\n",
    "\n",
    "for 횟수 in range(20):\n",
    "    t.forward(50)\n",
    "    if 횟수%3 == 0:\n",
    "        t.left(90)\n",
    "    else:\n",
    "        t.right(90)"
   ]
  },
  {
   "cell_type": "code",
   "execution_count": 87,
   "metadata": {},
   "outputs": [
    {
     "data": {
      "text/plain": [
       "4.641588833612778"
      ]
     },
     "execution_count": 87,
     "metadata": {},
     "output_type": "execute_result"
    }
   ],
   "source": [
    "100**(1/3)"
   ]
  },
  {
   "cell_type": "markdown",
   "metadata": {},
   "source": [
    "### 위치 지정하기\n",
    "- up(), down()\n",
    "- pos()\n",
    "- goto()"
   ]
  },
  {
   "cell_type": "code",
   "execution_count": 88,
   "metadata": {},
   "outputs": [],
   "source": [
    "t.reset()\n",
    "\n",
    "t.forward(100)\n",
    "t.up()\n",
    "t.forward(100)\n",
    "t.down()\n",
    "t.forward(100)"
   ]
  },
  {
   "cell_type": "markdown",
   "metadata": {},
   "source": [
    "- 점선 20개를 그리시오"
   ]
  },
  {
   "cell_type": "code",
   "execution_count": 90,
   "metadata": {},
   "outputs": [],
   "source": [
    "t.reset()\n",
    "\n",
    "for 횟수 in range(20):\n",
    "    if 횟수%2 == 0:\n",
    "        t.down()\n",
    "        t.forward(10)\n",
    "    else:\n",
    "        t.up()\n",
    "        t.forward(10)"
   ]
  },
  {
   "cell_type": "markdown",
   "metadata": {},
   "source": [
    "- 점선으로 사각형 그리기"
   ]
  },
  {
   "cell_type": "code",
   "execution_count": 91,
   "metadata": {},
   "outputs": [],
   "source": [
    "t.reset()\n",
    "\n",
    "for 횟수 in range(4):\n",
    "    t.forward(100)\n",
    "    t.left(90)"
   ]
  },
  {
   "cell_type": "code",
   "execution_count": 93,
   "metadata": {},
   "outputs": [],
   "source": [
    "t.reset()\n",
    "\n",
    "for 횟수 in range(10):\n",
    "    t.forward(10)\n",
    "    t.up()\n",
    "    t.forward(10)\n",
    "    t.down()\n",
    "    \n",
    "t.left(90)\n",
    "\n",
    "for 횟수 in range(10):\n",
    "    t.forward(10)\n",
    "    t.up()\n",
    "    t.forward(10)\n",
    "    t.down()\n",
    "    \n",
    "t.left(90)\n",
    "\n",
    "for 횟수 in range(10):\n",
    "    t.forward(10)\n",
    "    t.up()\n",
    "    t.forward(10)\n",
    "    t.down()\n",
    "    \n",
    "t.left(90)\n",
    "\n",
    "for 횟수 in range(10):\n",
    "    t.forward(10)\n",
    "    t.up()\n",
    "    t.forward(10)\n",
    "    t.down()"
   ]
  },
  {
   "cell_type": "code",
   "execution_count": 94,
   "metadata": {},
   "outputs": [],
   "source": [
    "t.reset()\n",
    "\n",
    "for 변 in range(4):\n",
    "    for 횟수 in range(10):\n",
    "        t.forward(10)\n",
    "        t.up()\n",
    "        t.forward(10)\n",
    "        t.down()\n",
    "    t.left(90)"
   ]
  },
  {
   "cell_type": "code",
   "execution_count": 96,
   "metadata": {},
   "outputs": [],
   "source": [
    "t.reset()\n",
    "\n",
    "for 횟수 in range(40):\n",
    "    t.forward(10)\n",
    "    t.up()\n",
    "    t.forward(10)\n",
    "    t.down()\n",
    "    if 횟수%10 ==9:\n",
    "        t.left(90)"
   ]
  },
  {
   "cell_type": "markdown",
   "metadata": {},
   "source": [
    "### 거북이 예술 (감상하기)"
   ]
  },
  {
   "cell_type": "markdown",
   "metadata": {},
   "source": [
    "- 별 모양 안에 원"
   ]
  },
  {
   "cell_type": "code",
   "execution_count": 69,
   "metadata": {},
   "outputs": [],
   "source": [
    "t.reset()\n",
    "t.speed(0)\n",
    "\n",
    "for 횟수 in range(200):\n",
    "    t.forward(200)\n",
    "    t.left(77)"
   ]
  },
  {
   "cell_type": "markdown",
   "metadata": {},
   "source": [
    "- 눈송이"
   ]
  },
  {
   "cell_type": "code",
   "execution_count": 70,
   "metadata": {},
   "outputs": [],
   "source": [
    "t.reset()\n",
    "\n",
    "def koch(d):\n",
    "    if d<10:\n",
    "        t.forward(d)\n",
    "        return\n",
    "        \n",
    "    koch(d/3)\n",
    "    t.left(60)\n",
    "    koch(d/3)\n",
    "    t.right(120)\n",
    "    koch(d/3)\n",
    "    t.left(60)\n",
    "    koch(d/3)\n",
    "    \n",
    "t.speed(0)\n",
    "t.color('blue', 'skyblue')\n",
    "t.begin_fill()\n",
    "\n",
    "koch(300)\n",
    "t.right(120)\n",
    "koch(300)\n",
    "t.right(120)\n",
    "koch(300)\n",
    "\n",
    "t.end_fill()"
   ]
  },
  {
   "cell_type": "markdown",
   "metadata": {},
   "source": [
    "- 삼각형 안에 또 삼각형 그리고..."
   ]
  },
  {
   "cell_type": "code",
   "execution_count": 71,
   "metadata": {},
   "outputs": [],
   "source": [
    "t.reset()\n",
    "\n",
    "def tri(d):\n",
    "    t.right(60)\n",
    "    t.forward(d)\n",
    "    t.right(120)\n",
    "    t.forward(d)\n",
    "    t.right(120)\n",
    "    t.forward(d)\n",
    "    t.right(60)\n",
    "    \n",
    "    if d>10:\n",
    "        tri(d/2)\n",
    "        t.right(120)\n",
    "        t.forward(d/2)\n",
    "        t.left(120)\n",
    "        tri(d/2)\n",
    "        t.forward(d/2)\n",
    "        tri(d/2)\n",
    "        t.left(120)\n",
    "        t.forward(d/2)\n",
    "        t.right(120)\n",
    "        \n",
    "t.speed(0)\n",
    "\n",
    "tri(300)"
   ]
  },
  {
   "cell_type": "code",
   "execution_count": null,
   "metadata": {},
   "outputs": [],
   "source": []
  }
 ],
 "metadata": {
  "kernelspec": {
   "display_name": "Python 3",
   "language": "python",
   "name": "python3"
  },
  "language_info": {
   "codemirror_mode": {
    "name": "ipython",
    "version": 3
   },
   "file_extension": ".py",
   "mimetype": "text/x-python",
   "name": "python",
   "nbconvert_exporter": "python",
   "pygments_lexer": "ipython3",
   "version": "3.7.0"
  }
 },
 "nbformat": 4,
 "nbformat_minor": 2
}
